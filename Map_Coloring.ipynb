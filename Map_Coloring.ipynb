{
 "cells": [
  {
   "cell_type": "code",
   "execution_count": 9,
   "id": "63268524-a9d2-4632-b59f-aa2d3f49a261",
   "metadata": {},
   "outputs": [
    {
     "name": "stdout",
     "output_type": "stream",
     "text": [
      "Node:  a \tColor:  Blue\n",
      "Node:  b \tColor:  Green\n",
      "Node:  c \tColor:  Red\n",
      "Node:  d \tColor:  Red\n",
      "Node:  e \tColor:  Blue\n"
     ]
    }
   ],
   "source": [
    "graph = {\n",
    "    'a':['b', 'c'],\n",
    "    'b':['a', 'c', 'd', 'e'],\n",
    "    'c':['b', 'e'],\n",
    "    'd':['a', 'b', 'e'],\n",
    "    'e':['b', 'c', 'd']\n",
    "}\n",
    "\n",
    "colors = ['Blue', 'Green', 'Red']\n",
    "sol = backtrack(graph, colors)\n",
    "\n",
    "def check(node, color, sol, graph):    # Checks if assigning a given color to node is valid in the current solution sol.\n",
    "    for neighbor in graph[node]:\n",
    "        if sol[neighbor] == color:\n",
    "            return False\n",
    "    return True\n",
    "\n",
    "def get_node(csp):                     # Finds and returns an unassigned node in the current state csp\n",
    "    for node in csp:\n",
    "        if csp[node] == -1:\n",
    "            return node\n",
    "\n",
    "def is_goal(assign):                   # Checks if the current assignment assign is complete (all nodes are assigned colors).\n",
    "    return all(val != -1 for val in assign.values())    # Returns True if all values in assign are not -1 (unassigned), otherwise False.\n",
    "\n",
    "def backtrack(graph, colors):\n",
    "    assign = {node: -1 for node in graph}\n",
    "    sol = rec_backtrack(assign, graph, colors)\n",
    "    return sol\n",
    "\n",
    "def rec_backtrack(assign, graph, colors):\n",
    "    if is_goal(assign):\n",
    "        return assign\n",
    "    var = get_node(assign)\n",
    "    for index, color in enumerate(colors):\n",
    "        if check(var, index, assign, graph):\n",
    "            assign[var] = index\n",
    "            result = rec_backtrack(assign, graph, colors)\n",
    "            if result:\n",
    "                return result\n",
    "            assign[var] = -1\n",
    "    return None\n",
    "\n",
    "if sol:\n",
    "    for node in sol:\n",
    "        print('Node: ', node, '\\tColor: ', colors[sol[node]])\n",
    "else:\n",
    "    print('No solution exists.')"
   ]
  },
  {
   "cell_type": "code",
   "execution_count": null,
   "id": "e7fee45c-59dc-4d8a-b893-1a770ae85ef5",
   "metadata": {},
   "outputs": [],
   "source": []
  }
 ],
 "metadata": {
  "kernelspec": {
   "display_name": "Python 3 (ipykernel)",
   "language": "python",
   "name": "python3"
  },
  "language_info": {
   "codemirror_mode": {
    "name": "ipython",
    "version": 3
   },
   "file_extension": ".py",
   "mimetype": "text/x-python",
   "name": "python",
   "nbconvert_exporter": "python",
   "pygments_lexer": "ipython3",
   "version": "3.12.2"
  }
 },
 "nbformat": 4,
 "nbformat_minor": 5
}
