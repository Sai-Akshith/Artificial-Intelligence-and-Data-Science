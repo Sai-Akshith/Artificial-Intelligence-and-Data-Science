{
 "cells": [
  {
   "cell_type": "code",
   "execution_count": 1,
   "id": "679b145c-2d43-40b0-9e03-f9c6e1ef1dda",
   "metadata": {},
   "outputs": [
    {
     "name": "stdout",
     "output_type": "stream",
     "text": [
      "\n",
      "Best Solution: [250.32686489651476, 288.7146415799298]\n",
      "Best Cost: 146019.68355154528\n"
     ]
    }
   ],
   "source": [
    "import math\n",
    "import random\n",
    "\n",
    "initSol = [300.0, 400.0]\n",
    "initTemp = 1000.0\n",
    "alpha = 0.95\n",
    "iters = 500\n",
    "\n",
    "def simAnnealing(initSol, initTemp, alpha, iters):\n",
    "    currSol = initSol\n",
    "    cost = fcost(currSol)\n",
    "    sol = currSol\n",
    "    minCost = cost\n",
    "    temp = initTemp\n",
    "    for iteration in range(iters):\n",
    "        neighbor = successors(currSol)\n",
    "        ncost = fcost(neighbor)\n",
    "        costdiff = ncost - cost\n",
    "        if costdiff < 0 or random.random() < math.exp(-costdiff / temp):\n",
    "            currSol = neighbor\n",
    "            cost = ncost\n",
    "            if cost < minCost:\n",
    "                sol = currSol\n",
    "                minCost = cost\n",
    "        temp *= alpha\n",
    "    return sol, minCost\n",
    "\n",
    "def fcost(sol):\n",
    "    return sum([i**2 for i in sol])\n",
    "\n",
    "def successors(sol, step=1.0):\n",
    "    succ = [x + random.uniform(-step, step) for x in sol]\n",
    "    return succ\n",
    "    \n",
    "bestSol, cost = simAnnealing(initSol, initTemp, alpha, iters)\n",
    "print(\"\\nBest Solution:\", bestSol)\n",
    "print(\"Best Cost:\", cost)\n"
   ]
  },
  {
   "cell_type": "code",
   "execution_count": null,
   "id": "918d8629-f242-49a8-9ee2-ccfea4a5253b",
   "metadata": {},
   "outputs": [],
   "source": []
  }
 ],
 "metadata": {
  "kernelspec": {
   "display_name": "Python 3 (ipykernel)",
   "language": "python",
   "name": "python3"
  },
  "language_info": {
   "codemirror_mode": {
    "name": "ipython",
    "version": 3
   },
   "file_extension": ".py",
   "mimetype": "text/x-python",
   "name": "python",
   "nbconvert_exporter": "python",
   "pygments_lexer": "ipython3",
   "version": "3.12.2"
  }
 },
 "nbformat": 4,
 "nbformat_minor": 5
}
