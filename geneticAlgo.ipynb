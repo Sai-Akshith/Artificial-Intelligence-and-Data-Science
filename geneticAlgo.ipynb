{
 "cells": [
  {
   "cell_type": "code",
   "execution_count": 104,
   "id": "c96747c6-de74-4957-af24-f1e74f4bdcfe",
   "metadata": {},
   "outputs": [
    {
     "name": "stdout",
     "output_type": "stream",
     "text": [
      "\n",
      "Most evolved state : 24748551 \n",
      "Generation : 1000 \n",
      "Attacks : 2\n",
      "\n",
      "Goal State : 17582463 \n",
      "Generation : 3\n"
     ]
    }
   ],
   "source": [
    "import random\n",
    "\n",
    "def mutate(board1, board2):\n",
    "    b1 = list(board1)\n",
    "    b2 = list(board2)\n",
    "    x = random.randint(0, 7)\n",
    "    b1[x], b2[x] = b2[x], b1[x]\n",
    "    return (''.join(b1), ''.join(b2))\n",
    "\n",
    "def crossover(board1, board2):\n",
    "    b1 = list(board1)\n",
    "    b2 = list(board2)\n",
    "    x = random.randint(1, 7)\n",
    "    b1[x:], b2[x:] = b2[x:], b1[x:]\n",
    "    return (''.join(b1), ''.join(b2))\n",
    "\n",
    "def fitness(board):\n",
    "    attacks = 0\n",
    "    for i in range(8):\n",
    "        for j in range(i+1, 8):\n",
    "            if board[i] == board[j] or abs(int(board[i]) - int(board[j])) == j-i:\n",
    "                attacks += 1\n",
    "    return attacks\n",
    "\n",
    "def geneticalgo(generations, initialPopulation):\n",
    "    i = 0\n",
    "    pq = []\n",
    "    pq.append((fitness(initialPopulation[0]), initialPopulation[0]))\n",
    "    pq.append((fitness(initialPopulation[1]), initialPopulation[1]))\n",
    "    goal_found = False\n",
    "    goal_state = \"\"\n",
    "    \n",
    "    while i < generations:\n",
    "        pq.sort(key=lambda x: x[0])\n",
    "        f1, b1 = pq[0]\n",
    "        f2, b2 = pq[1]\n",
    "        \n",
    "        if f1 == 0:\n",
    "            print('\\nGoal State :', b1, '\\nGeneration :', i+1)\n",
    "            return\n",
    "        elif f2 == 0:\n",
    "            print('\\nGoal State :', b2, '\\nGeneration :', i+1)\n",
    "            return\n",
    "        \n",
    "        pq = []  # Clear pq for the next generation\n",
    "\n",
    "        x1, x2 = crossover(b1, b2)\n",
    "        x3, x4 = crossover(b2, b1)\n",
    "        newPopulation = [(x1, x2), (x3, x4), mutate(x1, x2), mutate(x2, x1)]\n",
    "        for child in newPopulation:\n",
    "            pq.append((fitness(child[0]), child[0]))\n",
    "            pq.append((fitness(child[1]), child[1]))\n",
    "        i += 1\n",
    "\n",
    "    pq.sort(key=lambda x: x[0])\n",
    "    print('\\nMost evolved state :', pq[0][1], '\\nGeneration :', i, '\\nAttacks :', pq[0][0])\n",
    "\n",
    "geneticalgo(1000, ['32752411', '24748552'])\n",
    "geneticalgo(1000, ['17581234', '56782463'])"
   ]
  },
  {
   "cell_type": "code",
   "execution_count": null,
   "id": "bb85c642-bca7-441b-a4a1-6d5ac83673c9",
   "metadata": {},
   "outputs": [],
   "source": []
  }
 ],
 "metadata": {
  "kernelspec": {
   "display_name": "Python 3 (ipykernel)",
   "language": "python",
   "name": "python3"
  },
  "language_info": {
   "codemirror_mode": {
    "name": "ipython",
    "version": 3
   },
   "file_extension": ".py",
   "mimetype": "text/x-python",
   "name": "python",
   "nbconvert_exporter": "python",
   "pygments_lexer": "ipython3",
   "version": "3.12.2"
  }
 },
 "nbformat": 4,
 "nbformat_minor": 5
}
